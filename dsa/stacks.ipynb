{
 "cells": [
  {
   "cell_type": "code",
   "execution_count": 1,
   "id": "911d710f",
   "metadata": {},
   "outputs": [],
   "source": [
    "'ArrayStack implementation'\n",
    "\n",
    "class Empty(Exception): \n",
    "    'error attempting to access an element from an empty container'\n",
    "    pass\n",
    "\n",
    "class ArrayStack : \n",
    "\n",
    "    def __init__(self):\n",
    "        self._data = []\n",
    "\n",
    "    def push(self,e):\n",
    "        return self._data.append(e)\n",
    "    \n",
    "    def pop(self):\n",
    "\n",
    "        if self.is_empty():\n",
    "            raise Empty('stack is empty')\n",
    "        else:\n",
    "            self._data.pop()\n",
    "\n",
    "    def __len__(self):\n",
    "\n",
    "        return len(self._data)\n",
    "\n",
    "    def top(self):\n",
    "        if self.is_empty():\n",
    "            raise Empty('stack is empty')\n",
    "        else : \n",
    "            return self._data[-1]\n",
    "\n",
    "    def is_empty(self):\n",
    "\n",
    "        if len(self._data) == 0 : \n",
    "            return True \n",
    "        else : \n",
    "            return False"
   ]
  },
  {
   "cell_type": "code",
   "execution_count": 2,
   "id": "ee4edc18",
   "metadata": {},
   "outputs": [],
   "source": [
    "S = ArrayStack()"
   ]
  },
  {
   "cell_type": "code",
   "execution_count": 3,
   "id": "6dfa9848",
   "metadata": {},
   "outputs": [],
   "source": [
    "S.push(1)\n",
    "S.push(3)\n",
    "S.push(4)\n",
    "S.push(8)"
   ]
  },
  {
   "cell_type": "code",
   "execution_count": 6,
   "id": "aca24706",
   "metadata": {},
   "outputs": [],
   "source": [
    "S.pop()"
   ]
  },
  {
   "cell_type": "code",
   "execution_count": null,
   "id": "abdeb889",
   "metadata": {},
   "outputs": [],
   "source": []
  }
 ],
 "metadata": {
  "kernelspec": {
   "display_name": "Python 3",
   "language": "python",
   "name": "python3"
  },
  "language_info": {
   "codemirror_mode": {
    "name": "ipython",
    "version": 3
   },
   "file_extension": ".py",
   "mimetype": "text/x-python",
   "name": "python",
   "nbconvert_exporter": "python",
   "pygments_lexer": "ipython3",
   "version": "3.13.3"
  }
 },
 "nbformat": 4,
 "nbformat_minor": 5
}
